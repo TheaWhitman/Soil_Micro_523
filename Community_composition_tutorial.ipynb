{
 "cells": [
  {
   "cell_type": "markdown",
   "metadata": {},
   "source": [
    "### Today we're going to be proceding with the samples that we processed from the QIIME tutorial. We're going to bring them into R, to use a package called \"phyloseq\" to analyze and visualize them.\n",
    "\n",
    "https://joey711.github.io/phyloseq/"
   ]
  },
  {
   "cell_type": "markdown",
   "metadata": {},
   "source": [
    "From now on, we will be working in R. Thus, we don't need to use the ! at the beginning of the command, because this notebook is set up to run R code directly, and that is what we want."
   ]
  },
  {
   "cell_type": "code",
   "execution_count": null,
   "metadata": {
    "collapsed": true
   },
   "outputs": [],
   "source": [
    "library(\"phyloseq\")\n",
    "library(\"ggplot2\")\n",
    "# Attaching the packages we will use in R"
   ]
  },
  {
   "cell_type": "code",
   "execution_count": null,
   "metadata": {
    "collapsed": true
   },
   "outputs": [],
   "source": [
    "theme_set(theme_bw())\n",
    "# This just sets the theme for the figures we will create.\n",
    "# These are \"comments\".\n",
    "# You can use comments to put text in code cells.\n",
    "# If there is a # in front of the text, it won't be run as code.\n",
    "# You can use this to add notes about what each step of a command does."
   ]
  },
  {
   "cell_type": "code",
   "execution_count": null,
   "metadata": {
    "collapsed": true
   },
   "outputs": [],
   "source": [
    "?phyloseq\n",
    "# In R, instead of using \" XXcommand --help\", you type \"?XXcommand\" to get help"
   ]
  },
  {
   "cell_type": "markdown",
   "metadata": {},
   "source": [
    "Remember, we have our biom file with taxonomy and sample metadata saved here:\n",
    "\n",
    "OTU_table/feature-table-metaD-tax.biom\n",
    "\n",
    "If you don't have the file, you can download it here:\n",
    "https://github.com/TheaWhitman/Soil_Micro_523/raw/master/feature-table-metaD-tax.biom\n",
    "\n",
    "Make sure you put it in the OTU_table folder, or change the pathway below to reflect where you stored it."
   ]
  },
  {
   "cell_type": "code",
   "execution_count": null,
   "metadata": {
    "collapsed": false
   },
   "outputs": [],
   "source": [
    "ps = import_biom(\"OTU_table/feature-table-metaD-tax.biom\", parseFunction=parse_taxonomy_greengenes)\n",
    "# We are importing our .biom file and telling it the format the taxonomy is written in so it processes it correctly\n",
    "# If you saved the file somewhere else, you'll need to direct it to the correct filepath\n",
    "# (Don't worry about the warning message.)"
   ]
  },
  {
   "cell_type": "code",
   "execution_count": null,
   "metadata": {
    "collapsed": false
   },
   "outputs": [],
   "source": [
    "ps\n",
    "# This tells us a bit about our dataset"
   ]
  },
  {
   "cell_type": "code",
   "execution_count": null,
   "metadata": {
    "collapsed": false
   },
   "outputs": [],
   "source": [
    "# We might want to check out the data a bit to see what it looks like.\n",
    "# A key command for this is head()\n",
    "# head() allows us to see only the top of something. That's great if it's, for example, a 380-row OTU table.\n",
    "head(otu_table(ps))"
   ]
  },
  {
   "cell_type": "code",
   "execution_count": null,
   "metadata": {
    "collapsed": true
   },
   "outputs": [],
   "source": [
    "# In the cells below, try to look at the head of the sample data and our taxonomy table"
   ]
  },
  {
   "cell_type": "code",
   "execution_count": null,
   "metadata": {
    "collapsed": true
   },
   "outputs": [],
   "source": []
  },
  {
   "cell_type": "code",
   "execution_count": null,
   "metadata": {
    "collapsed": true
   },
   "outputs": [],
   "source": []
  },
  {
   "cell_type": "code",
   "execution_count": null,
   "metadata": {
    "collapsed": true
   },
   "outputs": [],
   "source": []
  },
  {
   "cell_type": "code",
   "execution_count": null,
   "metadata": {
    "collapsed": false
   },
   "outputs": [],
   "source": [
    "# Maybe we're wondering how many sequences are in each sample. We can calculate and plot this \n",
    "\n",
    "d = colSums(otu_table(ps))\n",
    "# defining variable d as the column sums of our otu table.\n",
    "d = data.frame(names(d),d)\n",
    "# Creating a dataframe of our sample names\n",
    "colnames(d)=c(\"Sample\",\"Total\")\n",
    "# Naming the columns\n",
    "head(d)\n",
    "# displaying the top few values of d."
   ]
  },
  {
   "cell_type": "code",
   "execution_count": null,
   "metadata": {
    "collapsed": false,
    "scrolled": false
   },
   "outputs": [],
   "source": [
    "options(repr.plot.width=4, repr.plot.height=3)\n",
    "# Setting the size of our plot\n",
    "\n",
    "p = qplot(d$Total, geom=\"histogram\", binwidth=60)\n",
    "p\n",
    "# Plotting the Total values we calculated above, to see the total reads from each sample"
   ]
  },
  {
   "cell_type": "markdown",
   "metadata": {},
   "source": [
    "Some of our samples had very few sequences - some even had 0! (This is because we only used 1% of the total data, to make analysis quicker.) For the purposes of this tutorial, we're going to want to get rid of the least abundant ones. There's not a clear cutoff in the distribution we see above, so let's just take only samples with >200 sequences."
   ]
  },
  {
   "cell_type": "code",
   "execution_count": null,
   "metadata": {
    "collapsed": true
   },
   "outputs": [],
   "source": [
    "# phyloseq has a function to do this, called prune_samples\n",
    "\n",
    "ps.cutoff = prune_samples(sample_sums(ps)>=200, ps)"
   ]
  },
  {
   "cell_type": "code",
   "execution_count": null,
   "metadata": {
    "collapsed": false
   },
   "outputs": [],
   "source": [
    "ps.cutoff\n",
    "# You can see we now have fewer samples (42)"
   ]
  },
  {
   "cell_type": "code",
   "execution_count": null,
   "metadata": {
    "collapsed": true
   },
   "outputs": [],
   "source": [
    "# In the cells below, see what happens if you change the cutoff from 200 to something else.\n",
    "# Be sure the last command you run sets the cutoff to something appropriate."
   ]
  },
  {
   "cell_type": "code",
   "execution_count": null,
   "metadata": {
    "collapsed": true
   },
   "outputs": [],
   "source": []
  },
  {
   "cell_type": "code",
   "execution_count": null,
   "metadata": {
    "collapsed": true
   },
   "outputs": [],
   "source": []
  },
  {
   "cell_type": "code",
   "execution_count": null,
   "metadata": {
    "collapsed": true
   },
   "outputs": [],
   "source": []
  },
  {
   "cell_type": "code",
   "execution_count": null,
   "metadata": {
    "collapsed": false
   },
   "outputs": [],
   "source": [
    "# Let's look at the taxonomic identity of the OTUs in our samples.\n",
    "# We can use the plot_bar function from phyloseq\n",
    "\n",
    "options(repr.plot.width=6, repr.plot.height=5)\n",
    "# Sets the plot size\n",
    "plot_bar(ps.cutoff, fill=\"Phylum\")"
   ]
  },
  {
   "cell_type": "code",
   "execution_count": null,
   "metadata": {
    "collapsed": true
   },
   "outputs": [],
   "source": [
    "# Can you run the same bar graph command, but use a different taxonomic classification than Phylum? \n",
    "# What do you get?"
   ]
  },
  {
   "cell_type": "code",
   "execution_count": null,
   "metadata": {
    "collapsed": true
   },
   "outputs": [],
   "source": []
  },
  {
   "cell_type": "code",
   "execution_count": null,
   "metadata": {
    "collapsed": true
   },
   "outputs": [],
   "source": []
  },
  {
   "cell_type": "code",
   "execution_count": null,
   "metadata": {
    "collapsed": false
   },
   "outputs": [],
   "source": [
    "# Okay, those plots are interesting, but they're the absolute abundances of each OTU\n",
    "# We know that sequencing idiosyncracies, not real ecology, are likely driving differences.\n",
    "# We might rather look at the relative abundance (fraction of total community)\n",
    "# Phyloseq has a function to transform sample counts:\n",
    "ps.norm = transform_sample_counts(ps.cutoff, function(x) x / sum(x) )\n",
    "    \n",
    "# And then we can make the same plot\n",
    "options(repr.plot.width=6, repr.plot.height=5)\n",
    "plot_bar(ps.norm, fill=\"Phylum\")"
   ]
  },
  {
   "cell_type": "code",
   "execution_count": null,
   "metadata": {
    "collapsed": false
   },
   "outputs": [],
   "source": [
    "# We might also be interested in what information we have about the samples.\n",
    "# You saw some of the categories when you ran head(sample_data(ps)) earlier.\n",
    "\n",
    "# We can use the following command to look at just the column names of our sample data:\n",
    "colnames(sample_data(ps.cutoff))"
   ]
  },
  {
   "cell_type": "code",
   "execution_count": null,
   "metadata": {
    "collapsed": true
   },
   "outputs": [],
   "source": [
    "# Now we can group the bar charts we made above by different categories\n",
    "# To do this, we add the facet_grid command:"
   ]
  },
  {
   "cell_type": "code",
   "execution_count": null,
   "metadata": {
    "collapsed": false
   },
   "outputs": [],
   "source": [
    "options(repr.plot.width=8, repr.plot.height=5)\n",
    "# Sets the plot size\n",
    "\n",
    "plot_bar(ps.norm, fill=\"Phylum\") + facet_grid(~Vegetation, scale=\"free\")\n",
    "# Runs the plot_bar command, but grouped by Vegetation "
   ]
  },
  {
   "cell_type": "code",
   "execution_count": null,
   "metadata": {
    "collapsed": true
   },
   "outputs": [],
   "source": [
    "# You can group by different variables.\n",
    "# Try grouping by phylum by changing the facet_grid command\n",
    "# You might need to change the plot size to visualize it"
   ]
  },
  {
   "cell_type": "code",
   "execution_count": null,
   "metadata": {
    "collapsed": true
   },
   "outputs": [],
   "source": []
  },
  {
   "cell_type": "code",
   "execution_count": null,
   "metadata": {
    "collapsed": true
   },
   "outputs": [],
   "source": []
  },
  {
   "cell_type": "code",
   "execution_count": null,
   "metadata": {
    "collapsed": true
   },
   "outputs": [],
   "source": []
  },
  {
   "cell_type": "code",
   "execution_count": null,
   "metadata": {
    "collapsed": true
   },
   "outputs": [],
   "source": [
    "# Explore the data however you like!"
   ]
  }
 ],
 "metadata": {
  "kernelspec": {
   "display_name": "R",
   "language": "R",
   "name": "ir"
  },
  "language_info": {
   "codemirror_mode": "r",
   "file_extension": ".r",
   "mimetype": "text/x-r-source",
   "name": "R",
   "pygments_lexer": "r",
   "version": "3.3.2"
  }
 },
 "nbformat": 4,
 "nbformat_minor": 2
}
