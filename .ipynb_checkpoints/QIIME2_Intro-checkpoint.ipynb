{
 "cells": [
  {
   "cell_type": "markdown",
   "metadata": {},
   "source": [
    "### QIIME2 Basics"
   ]
  },
  {
   "cell_type": "markdown",
   "metadata": {},
   "source": [
    "We'll be using QIIME2 for most of the sequencing data quality control and processing we do in this course.\n",
    "\n",
    "To run commands as though you were running them in the terminal, simply type ! at the beginning:"
   ]
  },
  {
   "cell_type": "code",
   "execution_count": 3,
   "metadata": {
    "collapsed": false
   },
   "outputs": [
    {
     "name": "stdout",
     "output_type": "stream",
     "text": [
      "QIIME2_Intro.ipynb                 Using_R_in_Jupyter_Notebooks.ipynb\r\n",
      "Untitled.ipynb                     \u001b[34mpython-novice-inflammation\u001b[m\u001b[m\r\n"
     ]
    }
   ],
   "source": [
    "!ls"
   ]
  },
  {
   "cell_type": "code",
   "execution_count": 4,
   "metadata": {
    "collapsed": false
   },
   "outputs": [
    {
     "name": "stdout",
     "output_type": "stream",
     "text": [
      "/Users/Thea/Documents/Madison/Box Sync/Teaching/Soils 523/Bioinformatics/Soil_Micro_523_Scripts\r\n"
     ]
    }
   ],
   "source": [
    "!pwd"
   ]
  },
  {
   "cell_type": "code",
   "execution_count": 2,
   "metadata": {
    "collapsed": false
   },
   "outputs": [
    {
     "name": "stdout",
     "output_type": "stream",
     "text": [
      "\u001b[32mSystem versions\u001b[0m\n",
      "Python version: 3.5.2\n",
      "QIIME 2 version: 2017.2.0\n",
      "q2cli version: 2017.2.0\n",
      "\u001b[32m\n",
      "Installed plugins\u001b[0m\n",
      "alignment 2017.2.0\n",
      "composition 2017.2.0\n",
      "dada2 2017.2.0\n",
      "demux 2017.2.0\n",
      "diversity 2017.2.0\n",
      "emperor 2017.2.0\n",
      "feature-classifier 2017.2.0\n",
      "feature-table 2017.2.0\n",
      "phylogeny 2017.2.0\n",
      "taxa 2017.2.0\n",
      "types 2017.2.0\n",
      "\u001b[32m\n",
      "Application config directory\u001b[0m\n",
      "/Users/Thea/Library/Application Support/q2cli\u001b[0m\n",
      "\u001b[32m\n",
      "Getting help\u001b[0m\n",
      "To get help with QIIME 2, visit https://qiime2.org\u001b[0m\n",
      "\u001b[32m\n",
      "Citing QIIME 2\u001b[0m\n",
      "If you use QIIME 2 in any published work, you should cite QIIME 2 and the plugins that you used. \u001b[0mTo display the citations for QIIME 2 and all installed plugins, run:\u001b[0m\n",
      "\n",
      "  qiime info --citations\n",
      "\u001b[0m\n"
     ]
    }
   ],
   "source": [
    "!qiime info"
   ]
  },
  {
   "cell_type": "markdown",
   "metadata": {},
   "source": [
    "The qiime info command tells us what versions of Python and QIIME we are running, plus whatever plugins are installed.\n",
    "The plugins are the Python programs that we use to perform various tasks with our data."
   ]
  },
  {
   "cell_type": "code",
   "execution_count": null,
   "metadata": {
    "collapsed": true
   },
   "outputs": [],
   "source": []
  }
 ],
 "metadata": {
  "kernelspec": {
   "display_name": "Python 3",
   "language": "python",
   "name": "python3"
  },
  "language_info": {
   "codemirror_mode": {
    "name": "ipython",
    "version": 3
   },
   "file_extension": ".py",
   "mimetype": "text/x-python",
   "name": "python",
   "nbconvert_exporter": "python",
   "pygments_lexer": "ipython3",
   "version": "3.5.2"
  }
 },
 "nbformat": 4,
 "nbformat_minor": 2
}
