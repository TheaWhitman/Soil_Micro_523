{
 "cells": [
  {
   "cell_type": "markdown",
   "metadata": {},
   "source": [
    "### Using R in Jupyter Notebooks"
   ]
  },
  {
   "cell_type": "markdown",
   "metadata": {},
   "source": [
    "You can also use Jupyter notebooks with the R programming language. While many people like to work in RStudio (Links to an external site.), we'll stick with the notebook format for the purposes of this course. You'll have to do two things - (1) make sure you have R installed, and (2) link it to the notebooks. Fortunately, this is pretty easy.\n",
    "\n",
    "You can download R for your system here (Links to an external site.). After you've installed it, you should be able to type\n",
    "\n",
    "> R\n",
    "\n",
    "in the terminal, and it will launch R (don't do this within R Studio or the R application). You can then follow the instructions for installing the IRkernel package here (Links to an external site.), which basically just requires entering three commands into the terminal. A prompt will likely pop up asking you which CRAN mirror to use - just select a nearby one.\n",
    "\n",
    "Now, when you open Jupyter notebooks, you should see two options for notebook types under the \"New\" button or \"New Notebook\" option in the File dropdown menu.\n",
    "\n",
    "Side note: There's actually another way to run R commands in Jupyter notebookes. You can use \"R magic\", which also allows you to pass variables back and forth between the two languages, which can be useful at times. If you're interested in this feature, you can check it out at Rpy2 (Links to an external site.), but we won't be using it in class."
   ]
  },
  {
   "cell_type": "code",
   "execution_count": null,
   "metadata": {
    "collapsed": true
   },
   "outputs": [],
   "source": []
  }
 ],
 "metadata": {
  "kernelspec": {
   "display_name": "Python 3",
   "language": "python",
   "name": "python3"
  },
  "language_info": {
   "codemirror_mode": {
    "name": "ipython",
    "version": 3
   },
   "file_extension": ".py",
   "mimetype": "text/x-python",
   "name": "python",
   "nbconvert_exporter": "python",
   "pygments_lexer": "ipython3",
   "version": "3.6.0"
  }
 },
 "nbformat": 4,
 "nbformat_minor": 2
}
