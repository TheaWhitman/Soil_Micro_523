{
 "cells": [
  {
   "cell_type": "markdown",
   "metadata": {},
   "source": [
    "## Quality control tutorial, based on QIIME2 \"Atacama soil microbiome\" tutorial\n",
    "https://docs.qiime2.org/2017.2/tutorials/atacama-soils/"
   ]
  },
  {
   "cell_type": "markdown",
   "metadata": {},
   "source": [
    "When we get our sequence data back, we will want to do a few things.\n",
    "1. Merge paired-end reads\n",
    "2. Screen sequences to include only high-quality reads\n",
    "3. Match our pool of sequences with their respective samples\n",
    "\n",
    "Watching this video from Illumina will give you an overview of how the MiSeq sequencing process runs. What we get back from the sequenceing centre will be three files: Forward reads, Reverse reads, and index (\"barcode\") reads"
   ]
  },
  {
   "cell_type": "markdown",
   "metadata": {},
   "source": [
    "As you saw in the video, Illumina MiSeq gives us millions of reads back. Since we don't need that degree of \"sequencing depth\" in our samples, we can pool hundreds of samples on a single run. To do this, we attach a different unique sequence (\"barcode\") to all the reads from each sample. Then, when they are sequenced, we also get the barcode sequence, allowing us to trace which sample each read came from. The process of unpooling the reads is usually called \"demultiplexing\". This is one of the first things we will do with our sequences."
   ]
  },
  {
   "cell_type": "markdown",
   "metadata": {},
   "source": [
    "While the files we get back from the sequencing centre will be very large, they are relatively simple - basically just stylized text files with information about our sequences and the sequences themselves. They are usually end with \".fasta\" or \".fa\". If they include \"quality scores\", they end with \".fastq\" \".fq\". They are still basically just text files - you could technically open them with a text reader. However, they are usually very long, and you wouldn't really want to do that."
   ]
  },
  {
   "cell_type": "markdown",
   "metadata": {},
   "source": [
    "## Importing and examining sequencing files\n",
    "\n",
    "To run a cell in the Jupyter notebook, just type shift+enter while you have the cell selected.\n",
    "\n",
    "A prefix of ! indicates that the code should be run in the terminal shell (not python code, which is the default)"
   ]
  },
  {
   "cell_type": "markdown",
   "metadata": {},
   "source": [
    "Let's take a look at some .fastq files from the qiime2 Atacama Soil Microbiome tutorial.\n",
    "\n",
    "Start by creating a new directory for this work, and moving to it."
   ]
  },
  {
   "cell_type": "code",
   "execution_count": 5,
   "metadata": {
    "collapsed": false
   },
   "outputs": [
    {
     "name": "stdout",
     "output_type": "stream",
     "text": [
      "/home/soil-micro/523_Soil_Sci/qiime2-atacama-tutorial\r\n"
     ]
    }
   ],
   "source": [
    "!mkdir qiime2-atacama-tutorial\n",
    "!cd qiime2-atacama-tutorial\n",
    "!pwd"
   ]
  },
  {
   "cell_type": "markdown",
   "metadata": {},
   "source": [
    "Now we'll download the files using wget.\n",
    "\"sample-metadata.tsv\" is what we are going to call the resulting file. You could name it something else if you wanted.\n",
    "The URL is, of course, where the file is stored."
   ]
  },
  {
   "cell_type": "code",
   "execution_count": 9,
   "metadata": {
    "collapsed": true
   },
   "outputs": [
    {
     "name": "stdout",
     "output_type": "stream",
     "text": [
      "--2017-02-18 14:49:14--  http://sample-metadata.tsv/\n",
      "Resolving sample-metadata.tsv (sample-metadata.tsv)... failed: Name or service not known.\n",
      "wget: unable to resolve host address ‘sample-metadata.tsv’\n",
      "--2017-02-18 14:49:15--  https://data.qiime2.org/2017.2/tutorials/atacama-soils/sample_metadata.tsv\n",
      "Resolving data.qiime2.org (data.qiime2.org)... 104.18.56.116, 104.18.57.116, 2400:cb00:2048:1::6812:3974, ...\n",
      "Connecting to data.qiime2.org (data.qiime2.org)|104.18.56.116|:443... connected.\n",
      "HTTP request sent, awaiting response... 302 FOUND\n",
      "Location: https://docs.google.com/spreadsheets/d/1xMP1EjKZDrzdKLnQr7LGVAY35ongxrreT28k0EACtfg/export?gid=0&format=tsv [following]\n",
      "--2017-02-18 14:49:21--  https://docs.google.com/spreadsheets/d/1xMP1EjKZDrzdKLnQr7LGVAY35ongxrreT28k0EACtfg/export?gid=0&format=tsv\n",
      "Resolving docs.google.com (docs.google.com)... 216.58.192.206, 2607:f8b0:4009:80e::200e\n",
      "Connecting to docs.google.com (docs.google.com)|216.58.192.206|:443... connected.\n",
      "HTTP request sent, awaiting response... 200 OK\n",
      "Length: unspecified [text/tab-separated-values]\n",
      "Saving to: ‘sample_metadata.tsv’\n",
      "\n",
      "sample_metadata.tsv     [ <=>                ]  11.61K  --.-KB/s    in 0.1s    \n",
      "\n",
      "2017-02-18 14:49:23 (106 KB/s) - ‘sample_metadata.tsv’ saved [11891]\n",
      "\n",
      "FINISHED --2017-02-18 14:49:23--\n",
      "Total wall clock time: 8.7s\n",
      "Downloaded: 1 files, 12K in 0.1s (106 KB/s)\n"
     ]
    }
   ],
   "source": [
    "!wget \"sample-metadata.tsv\" \"https://data.qiime2.org/2017.2/tutorials/atacama-soils/sample_metadata.tsv\""
   ]
  },
  {
   "cell_type": "markdown",
   "metadata": {},
   "source": [
    "(If you want to hide the output from a given command, you can click or double-click the space below the In [#] for that command.)"
   ]
  },
  {
   "cell_type": "markdown",
   "metadata": {},
   "source": [
    "We can take a look at this file we just downloaded - we might not want to see the whole thing, but we can look at the top portion using the command head:"
   ]
  },
  {
   "cell_type": "code",
   "execution_count": 8,
   "metadata": {
    "collapsed": true
   },
   "outputs": [
    {
     "name": "stdout",
     "output_type": "stream",
     "text": [
      "#SampleID\tBarcodeSequence\tLinkerPrimerSequence\tElevation\tExtractConcen\tAmpliconConcentration\tExtractGroupNo\tTransectName\tSiteName\tDepth\tpH\tTOC\tEC\tAverageSoilRelativeHumidity\tRelativeHumiditySoilHigh\tRelativeHumiditySoilLow\tPercentRelativeHumiditySoil_100\tAverageSoilTemperature\tTemperatureSoilHigh\tTemperatureSoilLow\tVegetation\tPercentCover\tDescription\r",
      "\r\n",
      "BAQ1370.1.2\tGCCCAAGTTCAC\tCCGGACTACHVGGGTWTCTAAT\t1370\t0.019\t0.950\tB\tBaquedano\tBAQ1370\t2\t7.98\t525\t6.08\t16.17\t23.97\t11.42\t0\t22.61\t35.21\t12.46\tno\t0\tBAQ1370.1.2\r",
      "\r\n",
      "BAQ1370.3\tGCGCCGAATCTT\tCCGGACTACHVGGGTWTCTAAT\t1370\t0.124\t17.460\tE\tBaquedano\tBAQ1370\t2\tNA\t771\t6.08\t16.17\t23.97\t11.42\t0\t22.61\t35.21\t12.46\tno\t0\tBAQ1370.3\r",
      "\r\n",
      "BAQ1370.1.3\tATAAAGAGGAGG\tCCGGACTACHVGGGTWTCTAAT\t1370\t1.200\t0.960\tJ\tBaquedano\tBAQ1370\t3\t8.13\tNA\tNA\t16.17\t23.97\t11.42\t0\t22.61\t35.21\t12.46\tno\t0\tBAQ1370.1.3\r",
      "\r\n",
      "BAQ1552.1.1\tATCCCAGCATGC\tCCGGACTACHVGGGTWTCTAAT\t1552\t0.722\t18.830\tJ\tBaquedano\tBAQ1552\t1\t7.87\tNA\tNA\t15.75\t35.36\t11.1\t0\t22.63\t30.65\t10.96\tno\t0\tBAQ1552.1.1\r",
      "\r\n",
      "BAQ1552.2\tGCTTCCAGACAA\tCCGGACTACHVGGGTWTCTAAT\t1552\t0.017\t2.000\tB\tBaquedano\tBAQ1552\t2\tNA\t223\t1.839\t15.75\t35.36\t11.1\t0\t22.63\t30.65\t10.96\tno\t0\tBAQ1552.2\r",
      "\r\n",
      "BAQ2420.1.1\tACACAGTCCTGA\tCCGGACTACHVGGGTWTCTAAT\t2420\t0.350\t7.400\tH\tBaquedano\tBAQ2420\t1\t9.33\tNA\tNA\t82.54\t100\t41.135\t46.77\t22.45\t28.297\t13.294\tno\t0\tBAQ2420.1.1\r",
      "\r\n",
      "BAQ2420.1.2\tATTATACGGCGC\tCCGGACTACHVGGGTWTCTAAT\t2420\t0.108\t11.420\tH\tBaquedano\tBAQ2420\t2\t9.36\t166\t0.075\t82.54\t100\t41.135\t46.77\t22.45\t28.297\t13.294\tno\t0\tBAQ2420.1.2\r",
      "\r\n",
      "BAQ2420.2\tTAAACGCGACTC\tCCGGACTACHVGGGTWTCTAAT\t2420\t0.089\t10.060\tA\tBaquedano\tBAQ2420\t2\t9.36\t337\t0.075\t82.54\t100\t41.135\t46.77\t22.45\t28.297\t13.294\tno\t0\tBAQ2420.2\r",
      "\r\n",
      "BAQ2420.3\tCCTCGGGTACTA\tCCGGACTACHVGGGTWTCTAAT\t2420\t0.083\t15.920\tC\tBaquedano\tBAQ2420\t2\t9.36\t574\t0.075\t82.54\t100\t41.135\t46.77\t22.45\t28.297\t13.294\tno\t0\tBAQ2420.3\r",
      "\r\n"
     ]
    }
   ],
   "source": [
    "!head sample-metadata.tsv"
   ]
  },
  {
   "cell_type": "markdown",
   "metadata": {},
   "source": [
    "As you can see, this has all the data associated with our samples for this tutorial, including the barcodes."
   ]
  },
  {
   "cell_type": "markdown",
   "metadata": {},
   "source": [
    "Let's make a new folder within this tutorial, where we will house our sequence data."
   ]
  },
  {
   "cell_type": "code",
   "execution_count": 11,
   "metadata": {
    "collapsed": true
   },
   "outputs": [
    {
     "name": "stdout",
     "output_type": "stream",
     "text": [
      "mkdir: cannot create directory ‘emp-paired-end-sequences’: File exists\r\n"
     ]
    }
   ],
   "source": [
    "!mkdir emp-paired-end-sequences"
   ]
  },
  {
   "cell_type": "markdown",
   "metadata": {},
   "source": [
    "Then we are going to download the forward and reverse reads to that folder.\n",
    "Note that we are still in the qiime2-atacama-tutorial folder - we didn't move into the emp-paired-end-sequences folder. However, by specifying the file path, we can direct the computer to download the sequences to that new folder we just created."
   ]
  },
  {
   "cell_type": "code",
   "execution_count": 52,
   "metadata": {
    "collapsed": true
   },
   "outputs": [
    {
     "name": "stdout",
     "output_type": "stream",
     "text": [
      "--2017-02-18 16:17:08--  https://data.qiime2.org/2017.2/tutorials/atacama-soils/1p/forward.fastq.gz\n",
      "Resolving data.qiime2.org (data.qiime2.org)... 104.18.56.116, 104.18.57.116, 2400:cb00:2048:1::6812:3974, ...\n",
      "Connecting to data.qiime2.org (data.qiime2.org)|104.18.56.116|:443... connected.\n",
      "HTTP request sent, awaiting response... 302 FOUND\n",
      "Location: https://dl.dropboxusercontent.com/u/2868868/data/qiime2/tutorials/importing-sequence-data/2017.2/emp-paired-end-sequences/atacama-1p/forward.fastq.gz [following]\n",
      "--2017-02-18 16:17:08--  https://dl.dropboxusercontent.com/u/2868868/data/qiime2/tutorials/importing-sequence-data/2017.2/emp-paired-end-sequences/atacama-1p/forward.fastq.gz\n",
      "Resolving dl.dropboxusercontent.com (dl.dropboxusercontent.com)... 108.160.172.69\n",
      "Connecting to dl.dropboxusercontent.com (dl.dropboxusercontent.com)|108.160.172.69|:443... connected.\n",
      "HTTP request sent, awaiting response... 200 OK\n",
      "Length: 14579008 (14M) [application/octet-stream]\n",
      "Saving to: ‘emp-paired-end-sequences/forward.fastq.gz’\n",
      "\n",
      "emp-paired-end-sequ 100%[===================>]  13.90M  4.11MB/s    in 4.2s    \n",
      "\n",
      "2017-02-18 16:17:14 (3.28 MB/s) - ‘emp-paired-end-sequences/forward.fastq.gz’ saved [14579008/14579008]\n",
      "\n",
      "--2017-02-18 16:17:14--  https://data.qiime2.org/2017.2/tutorials/atacama-soils/1p/reverse.fastq.gz\n",
      "Resolving data.qiime2.org (data.qiime2.org)... 104.18.57.116, 104.18.56.116, 2400:cb00:2048:1::6812:3974, ...\n",
      "Connecting to data.qiime2.org (data.qiime2.org)|104.18.57.116|:443... connected.\n",
      "HTTP request sent, awaiting response... 302 FOUND\n",
      "Location: https://dl.dropboxusercontent.com/u/2868868/data/qiime2/tutorials/importing-sequence-data/2017.2/emp-paired-end-sequences/atacama-1p/reverse.fastq.gz [following]\n",
      "--2017-02-18 16:17:14--  https://dl.dropboxusercontent.com/u/2868868/data/qiime2/tutorials/importing-sequence-data/2017.2/emp-paired-end-sequences/atacama-1p/reverse.fastq.gz\n",
      "Resolving dl.dropboxusercontent.com (dl.dropboxusercontent.com)... 45.58.69.5\n",
      "Connecting to dl.dropboxusercontent.com (dl.dropboxusercontent.com)|45.58.69.5|:443... connected.\n",
      "HTTP request sent, awaiting response... 200 OK\n",
      "Length: 16296324 (16M) [application/octet-stream]\n",
      "Saving to: ‘emp-paired-end-sequences/reverse.fastq.gz’\n",
      "\n",
      "emp-paired-end-sequ 100%[===================>]  15.54M  4.68MB/s    in 3.9s    \n",
      "\n",
      "2017-02-18 16:17:20 (3.99 MB/s) - ‘emp-paired-end-sequences/reverse.fastq.gz’ saved [16296324/16296324]\n",
      "\n",
      "--2017-02-18 16:17:20--  https://data.qiime2.org/2017.2/tutorials/atacama-soils/1p/barcodes.fastq.gz\n",
      "Resolving data.qiime2.org (data.qiime2.org)... 104.18.56.116, 104.18.57.116, 2400:cb00:2048:1::6812:3974, ...\n",
      "Connecting to data.qiime2.org (data.qiime2.org)|104.18.56.116|:443... connected.\n",
      "HTTP request sent, awaiting response... 302 FOUND\n",
      "Location: https://dl.dropboxusercontent.com/u/2868868/data/qiime2/tutorials/importing-sequence-data/2017.2/emp-paired-end-sequences/atacama-1p/barcodes.fastq.gz [following]\n",
      "--2017-02-18 16:17:21--  https://dl.dropboxusercontent.com/u/2868868/data/qiime2/tutorials/importing-sequence-data/2017.2/emp-paired-end-sequences/atacama-1p/barcodes.fastq.gz\n",
      "Resolving dl.dropboxusercontent.com (dl.dropboxusercontent.com)... 45.58.69.5\n",
      "Connecting to dl.dropboxusercontent.com (dl.dropboxusercontent.com)|45.58.69.5|:443... connected.\n",
      "HTTP request sent, awaiting response... 200 OK\n",
      "Length: 2105968 (2.0M) [application/octet-stream]\n",
      "Saving to: ‘emp-paired-end-sequences/barcodes.fastq.gz’\n",
      "\n",
      "emp-paired-end-sequ 100%[===================>]   2.01M  1.24MB/s    in 1.6s    \n",
      "\n",
      "2017-02-18 16:17:25 (1.24 MB/s) - ‘emp-paired-end-sequences/barcodes.fastq.gz’ saved [2105968/2105968]\n",
      "\n"
     ]
    }
   ],
   "source": [
    "!wget -O \"emp-paired-end-sequences/forward.fastq.gz\" \"https://data.qiime2.org/2017.2/tutorials/atacama-soils/1p/forward.fastq.gz\"\n",
    "!wget -O \"emp-paired-end-sequences/reverse.fastq.gz\" \"https://data.qiime2.org/2017.2/tutorials/atacama-soils/1p/reverse.fastq.gz\"\n",
    "!wget -O \"emp-paired-end-sequences/barcodes.fastq.gz\" \"https://data.qiime2.org/2017.2/tutorials/atacama-soils/1p/barcodes.fastq.gz\""
   ]
  },
  {
   "cell_type": "markdown",
   "metadata": {},
   "source": [
    "ALthough the programs we are going to use can work with these files in a zipped format, we want to take a look at them. So, let's unzip them and use commands to see what's in them. The -k flag indiates we want to \"keep\" the zipped file too.\n",
    "The -f flag is for \"force\", which means it will overwrite existing files if they exist.\n",
    "We are then moving them (mv) to a new directory (mkdir)."
   ]
  },
  {
   "cell_type": "code",
   "execution_count": 2,
   "metadata": {
    "collapsed": false,
    "scrolled": true
   },
   "outputs": [
    {
     "name": "stdout",
     "output_type": "stream",
     "text": [
      "mkdir: cannot create directory ‘unzipped-emp-paired-end-sequences/’: File exists\r\n"
     ]
    }
   ],
   "source": [
    "!gunzip -k -f emp-paired-end-sequences/*.gz\n",
    "!mkdir unzipped-emp-paired-end-sequences/\n",
    "!mv emp-paired-end-sequences/*.fastq unzipped-emp-paired-end-sequences/"
   ]
  },
  {
   "cell_type": "markdown",
   "metadata": {},
   "source": [
    "Let's take a look at the first 100 lines of our forward reads .fastq file."
   ]
  },
  {
   "cell_type": "code",
   "execution_count": 5,
   "metadata": {
    "collapsed": true
   },
   "outputs": [
    {
     "name": "stdout",
     "output_type": "stream",
     "text": [
      "@M00176:65:000000000-A41FR:1:1101:14282:1412 1:N:0:0\r\n",
      "NACGTAGGGTGCAAGCGTTAATCGGAATTACNGGNNNTAAAGCGTGCNNAGGCNNNNNNNNNNNANNNNNNNNNNNNNNNNNNNNNNNNNNNNNNNNNNNNNNNNNNNNNNNNNNNNNNNNNNNNNNNNNNNNNNNNNNNNNNNNNNNNNN\r\n",
      "+\r\n",
      "#>>>AAF@ACAA4BGCEEECGGHGGEFCFBG#BA###BABAEFGEEE##BBAA###########B######################################################################################\r\n",
      "@M00176:65:000000000-A41FR:1:1101:16939:1420 1:N:0:0\r\n",
      "NACGTAGGGGGCAAGCGTTGTCCGGAATCATTGGNNGTAAAGAGCGTGNAGGCNNNNNGNNANNTNNNNNNNNNNNNNNNNNNNNNNNNNNNNNNNNNNNNNNNNNNNNNNNNNNNNNNNNNNNNNNNNNNNNNNNNNNNNNNNNNNNNNN\r\n",
      "+\r\n",
      "#>>ABAF@ABBBGGGGEEFGGGHGGFFGFHHHHH##BBEFDHHCGGFG#ABFF#####B##B##B######################################################################################\r\n",
      "@M00176:65:000000000-A41FR:1:1101:14746:1560 1:N:0:0\r\n",
      "TACGTAGGGAGCTAGCGTTGTCCGGAATCATTGGGCGTAAAGCGCGCGTAGGCGGCCAGATAAGTCCGGTGTAAAAGCCACAGGCTNNNNNNNNNNNNNNNNCNGGANNNNNNNNNNNNNNNNNNNNNNANNNNNNNNNNNNANNNNNGGN\r\n",
      "+\r\n",
      "AA1AA1CA11>AAGGCEEEE0FGACAEFFDDGFFHFGGCEGHBE?A?EGCEGFGGEE/ABFFGDBGGEEGGGDGEDBAGBCCAFF<################?#??/######################.############.#####;;#\r\n",
      "@M00176:65:000000000-A41FR:1:1101:14017:1577 1:N:0:0\r\n",
      "TACGGAGGGTGCCAGCGTTGTCCGGATTTATTGGGCGTAAAGAGCGCGTAGGCGGCCAGGCAGGTCCGGTGTGAAAACTCGAGGCTNNACCTNNNNNNNGCAGCGGANNNNNNNNGGCNNNANNNNNNAAGGNGNNNNNNNNGNNCNNGGN\r\n",
      "+\r\n",
      "AAAA?AAD11>ACGGGEGG0FGHEEE0E1FGHGGFHGGGGHHDGB//A/>EE1EGG/?F//?/>GHBE/EEG/>FF1B1BCH/BBF##??/?#######/??//>CC########.<<###.######.;;;#:########.##9##.9#\r\n",
      "@M00176:65:000000000-A41FR:1:1101:15772:1636 1:N:0:0\r\n",
      "TACGGAGGGAGCTAGCGTTGTTCGGAATTACTGGGCGTAAAGCGCGCGTAGGCGGCTTTGTAAGTTAGAGGTGAAAGCCCGGGGCTCAACTCCGGAACTGCCTTTAAGANNGNNTCGCTTGAATCCGGGAGAGGTGAGTGGAATTCCGAGT\r\n",
      "+\r\n",
      "BBBBBBB?>2AAGGFGEEFGGGH?EEFGHHHHFBFHG0AEDFGEEAEEEEGGFGG/E/GHHFHHHD?DFFHCEHHHGHHHG?CGCCFFGH21FGGDGGHHHHHD<GH1=##<##...<CGGAFG<CA-;-DGGC/GHHGFEGGC0FF9A?A\r\n",
      "@M00176:65:000000000-A41FR:1:1101:16354:1668 1:N:0:0\r\n",
      "TACGTAGGGCGCAAGCGTTATCCGGAATTATTGGGCGTAAAGAGCTCGTAGGCGGTTTGTCGCGTCTGCCGTGAAAGTCCGGGGCTCAACTCCGGATCTGCGGTGGGTACGGGCAGACTAGAGTGATGTAGGGGAGACTGGAATTCCTGGT\r\n",
      "+\r\n",
      "AAA1>111>CDDECEGE0FEFGG0A0EFHHHH11FFEEGGHGH0FGGCEGGFHGG@FGGHHCEE?ECAGHGGGFFFFHHHGCGC</F1BFHGH??/?CH1<ACEGGGGFE.ACC?FEHFD/0<0=:CGFF00...@.C;09/9FFGGFFB;\r\n",
      "@M00176:65:000000000-A41FR:1:1101:15583:1697 1:N:0:0\r\n",
      "TACGGAGGGGGCTGGCGTTGTTCGGATTTATTGGGCGTAAAGCGCACGTAGGCGGCTTTGTAAGTTAGAGGTGGAATCCCTGGGCTTAACCCTGGAATTGCCTTTAAGACTGCATCGCTAGAATTGTGGAGAGGTGAGTGGAATTCCGGGG\r\n",
      "+\r\n",
      ">>>1AAA@?DDD00AEEEFAF/GGGA/EFF2DFCF0EEEFHC1?//>EFFHE1>?//>BG22FGFFEH1F01<?CFG11B1FGGF0?CFBGH0FGF1?FFF1GHFHEBF11?FDDDE/FCC1=FB1FD?1.1E./.0.=GC<0<GD0;-;-\r\n",
      "@M00176:65:000000000-A41FR:1:1101:16554:1705 1:N:0:0\r\n",
      "TACGGGGGGGGCAAGCGTTGTCCGGAATTACTGGGCGTAAAGGGTTCGTAGGTGGCCGGCTAAGTCAGACGTGAAATCCCTCAGCTTAACTGGGGAACTGCGTTTGAGACTGGTCGGCTTGAGTGCAGGAGAGGAACGCGGAATTCCAGGG\r\n",
      "+\r\n",
      "AAAA1>>0/<;@=BBFFBB-A/BB?A@A/99FFFFF@@?BFFB?9-;@ABAAB/9;--9;@BBB/9/;//;AA-AB/FF/9--9/9/;FFFBF?--9ABFFB;--AFEFFFFE;/@--A-=-;BB999;---9--B-9-;@--AFFF//F-\r\n",
      "@M00176:65:000000000-A41FR:1:1101:17729:1748 1:N:0:0\r\n",
      "NGGTTTTGATACCCATCATGCGCATCAGCATACGGGTGATAGCATTCAGCAACNNNANCANCNNCNNNNNNNNNNNNNNNNNNNNNNNNNNNNNNNNNNNNNNNNNNNNNNNNNNNNNNNNNNNNNNNNNNNNNNNNNNNNNNNNNNNNNN\r\n",
      "+\r\n",
      "#>>AAAAF>FFFGGGGGBGGGGEGFGHHFHHFHHGGAEDHHHHFHHHFHHHHH###B#B1#B##B######################################################################################\r\n",
      "@M00176:65:000000000-A41FR:1:1101:13035:1782 1:N:0:0\r\n",
      "TACGGAGGGTGCTAGCGTTGTCCGGATTTACTGGGCGTAAAGAGCTCGTAGGCGGCCTGGCGAGTCGGGGGTNNNANCCNNNNNNNNNNNNNNNNNNNNNNNNNNNNNNNNNNNNNNNNNNNNNNNNNNNNNNNNNNNNNNNNNNNNNNNN\r\n",
      "+\r\n",
      "AAAA1>ADDAAA1FGGEGGGE1G?GA0B1FEHGHHGGGGGHH1FFAFEEGGGBEG/@/E/0/>>E0>E//>>###?#??########################################################################\r\n",
      "@M00176:65:000000000-A41FR:1:1101:15637:1793 1:N:0:0\r\n",
      "TACGTAGGGGGCAAGCGTTGTCCGGAATTATTGGGCGTAAAGAGCGTGTAGGCGGTCCGATAAGTCGGTTGTGAAAGTCAAGGGCTCAACCCTTGAATGCCGACCGATACTGTCGGGCTAGAGTCCGGAAGAGGCGAGTGGAATTCCCGGT\r\n",
      "+\r\n",
      "1>11>F1AAADDGFFCEEEE0BF0EA/BFFGHHCHHGGGGHFB0FEEFGFFHFCEGCEEGGGGHHHEGGGCEEB21BFGGHGGCFG?1FGCCHHHGHHHHHC@CCGCGGCGGHHGCCCGGHEBGHFCCCA?.:.:A-9AFA00;CFBBE@-\r\n",
      "@M00176:65:000000000-A41FR:1:1101:17004:1800 1:N:0:0\r\n",
      "TACGGAGGGGGTTAGCGTTATTCGGAATCACTGGGCGTAAAGGGAGCGTAGGCGGCGCGGTAAGTCAGATGTGAAATCTGGGGGCTCAACCTCCAAACTGCATTCGATACTGCCGTGCTAGAGTAATGGAGAGGTAACTGGAATTCTCGGT\r\n",
      "+\r\n",
      "BBBBBBBBBBBAEGGGGEGGCGHHHGGGCHHHHHHHGGGGHHGGEAEFGGGGHGGGCCGGGGGHHHHHHHHHHHHGHHHHGHGGACGGGHHFHHHHHHHHHHHHFHGHHFHHHHGGGGGDGCGHFGHHHHHHGGHHFGHGHGHFGGGGGGG\r\n",
      "@M00176:65:000000000-A41FR:1:1101:14964:1803 1:N:0:0\r\n",
      "GACGGAGGGCGCGAACGTTGTTCGGAATCACTGGGCGTAAAGGGCGCGTAGGCGGATCGGTAAGTCAGACGTGAAATCCCGGGGCTCAACTCCGGGCCTGCGTTTGAAACTGCCGTTCTAGAGTTCAGGAGAGGAAGGCGGAATTCCAGGT\r\n",
      "+\r\n",
      "AABAAAAD@2ADA?EFEFFGGGGEE?EFHFHHGGHGFEEDGFFGGGGCFFGFHGG/?CEGEEFFHF4EFFFADAF2F2FHGGGFG?GFFGHH<A?@AFFGGGGGGGGDDGHFGHCDGHGHEBGHHHGHGFE?A9FFFDEDC?9EFFB//B9\r\n",
      "@M00176:65:000000000-A41FR:1:1101:16614:1827 1:N:0:0\r\n",
      "TACGGGGGATGCAAGCGTTATCCGGAATTATTGGGCGTAAAGAGTCTGTAGGTTGCTTAGTAAGTCTGCTGTTAAATATTAGAGCTTAACTCTAAGCAAGCATTGGAAACTATTAAGCTAGAGTATGGTAGAGGCAAAGGGAATTCCCAGT\r\n",
      "+\r\n",
      "BBBBB?DD?BBFGGGGEEEEGFHGGGGGHHHHHHGHGGGGHHCHHHGFHHHGGGHHHHHGHHHHHHHHHHHHHHHHHGHHHHHHFFBFGHHHHHGHHFGHHHHHGHGHHHHHHHHHHHHHGBGHHHHHHHHHHHGGHGHFGHHFHHHHHHH\r\n",
      "@M00176:65:000000000-A41FR:1:1101:12248:1833 1:N:0:0\r\n",
      "TACGTAGGGTCCGAGCGTTGTCCGGAATCATTGGGCGTAAAGCGCTCGTAGGCGGTTCGGCACGTCGGGTGTGAAAACTNANNNNNNNNNNNNNNNNNNNNNNNNNNNNNNNNNNNNNNNNNNNNNNNNNNNNNNNNNNNNNNNNNNNNNN\r\n",
      "+\r\n",
      "AAA@?@C?1C1>EECEAA0EFGH0EAEF11DGDG/FEEEFHH1EC/EEECEFFEE/>/>///>?BG///>>EGFFE101#?######################################################################\r\n",
      "@M00176:65:000000000-A41FR:1:1101:12632:1844 1:N:0:0\r\n",
      "TACGTAGGTGGCAAGCGTTGTCCGGATTTACTGGGCGTAAAGAGCGCGCAGGCGGTCGATTAAGTCGAATGTGAAAGCCNCNNGCNNNNNNNNNNNNNNNNNNNNNNNNNNNNNNNNNNNNNNNNNNNNNNNNNNNNNNNNNNNNNNNNNN\r\n",
      "+\r\n",
      "BBBBBFFADDAFFGFCEFEEFGHEEEEGHGHHHFGHGGGGHHHHGGGGGGGGGGGGGGEFHFHHHGFCFGGHHHGHEGF#?##??##################################################################\r\n",
      "@M00176:65:000000000-A41FR:1:1101:13892:1919 1:N:0:0\r\n",
      "TACGTAGGGGGCAAGCGTTGTCCGGAATCATTGGGCGTAAAGCGCGTGTAGGCGGTTTTGTAAGTCCGCTCTGAAAGTCCGGGGCTCAACCCCGGGAGGCGGGTGGATACTGTCAGACTAGAGTACGGAAGAGACGAGTGGAATTCCCGGT\r\n",
      "+\r\n",
      "BBBAAFF3A2AAEGCGEFGCFFGEEEEFFGEHGHHGEGGGHFGEEE>EGHHGF>EEEG1FHEHGHGHEEGGHHGGHGFGHEGCG>CGF?GHFGGGDGGG?C@-:-AGB0GGGBFGGGFFBCFFFFFGG.ADFFFF?BBFFE/9FBBFF.;9\r\n",
      "@M00176:65:000000000-A41FR:1:1101:17674:1928 1:N:0:0\r\n",
      "TAGCAAGCACATCACCTTGAATGCCACCGGAGGCGGCTTTTTGACCGCCTCCAAACAATTTAGACATGGCGCCACCAGCAAGAGCAGAAGCAATACCGCCAGCAATAGNNNNNNACATAAATCACCTCACTTAAGTGGCTGGAGACAAATA\r\n",
      "+\r\n",
      "BBBBBFFBFFBFGDGGGGGGGGFGFDHG2EFGGFGGGGGHHHGGHHGGGGGHHHHGHHHHHGGHHGHHHGGGGGGHHHGHHHGHGHHHHGGEEHHFHGGGGGGHFHHH######???FFHHHHHHHHHHHHHH1GGHHGHGF.<CFFGFGG\r\n",
      "@M00176:65:000000000-A41FR:1:1101:14521:2054 1:N:0:0\r\n",
      "TACGAAGGGGGCTAGCGTTGTTCGGAATCACTGGGCGTAAAGCGCACGTAGGCGGATCTTTAAGTCAGGGGTGAAAGCCCGAGGCTCAACCTCGGAACTGCCTTTGATACTGGATCTCTTGAGTCCGGGAGAGGTAAGTGGAACTCCGAGT\r\n",
      "+\r\n",
      "ACCC3ABBBADDGGGGEEGGGGGGGGGG3GGHHGHHGGGGHHHGGAEEGHHGHGG/EEGEHHHHH4FG2BEEGHHH3BGHG/BCCGGGHHH2GGGGG/FGHHHHH1F1@FGH1F111>FHHF1FHHGG-<AFDDH0GHHHHCF/;0<DGG:\r\n",
      "@M00176:65:000000000-A41FR:1:1101:16039:2070 1:N:0:0\r\n",
      "AAATTAAAATTTTTACCGCTTCGGCGTTATAACCTCACACTCAATCTTTTATCACGAAGTCATGATTGAATCGCGAGTGGTCGGCAGATTGCGATAAACGGTCACATTAAATTTAACCTGACTATTCCACTGCAACAACTGAACGGACTGG\r\n",
      "+\r\n",
      ">3A?AF5B@DFFGGCFGEGGFGEGFFGGEGGFFFGGFHHHHGFBGFHGHHHHHFHGGDEFEDGHHGHGHFHHHGG?EGHGGHGGE@E/EGFHG?EEFGFFEEFGHG3GGFGHHHHHGFFHHHEGHHEGHGFHF2GHGHAGFB1F<DDDCFF\r\n",
      "@M00176:65:000000000-A41FR:1:1101:16282:2092 1:N:0:0\r\n",
      "TACGGAGGGTGCGAGCGTTAATCGGAATTACTGGGCGTAAAGAGCACGTAGGTGGTTTGGTAAGTCGGATGTGAAATCCCTGGGCTCAACCTGGGAATTGCATTCGAAACTGCCTCACTAGAGTCTAGCAGAGGGATGGGGAATTCCGGGT\r\n",
      "+\r\n",
      "ABBBBBB@DBAAGGEEGFGEFGFFGFGGHHHHHHHEGEEGHHHHHHHGGHHGGHGFFHGGHHHGHHGGGGGHHHHHHHHHHHGGFFGHHHHHGHGHHHHHHHHHHHHHGGHHHHHHHHHHHFHHHHHHHHHHHGGGHGGFGGGHHHHGGGD\r\n",
      "@M00176:65:000000000-A41FR:1:1101:13895:2097 1:N:0:0\r\n",
      "TACGGAGGATGCAAGTGTTATCCGGAATCACTGGGCGTAAAGCGTCTGTAGGTGGCTCGATAAGTCAACTGTTAAATCTTGAAGCTTAACTTCGAAATCGCAGTCGAAACTATCGGACTAGAGTATAGTAGAGGTAAAGGGAATTTCCAGT\r\n",
      "+\r\n",
      "BBBB@3A@AFFFGGGBBGFFGGGECFCGHHHHHHHFEFGGHHGEEGGGHHHHHHGFHHGGHHGFGHHGHHFHHGHHGHHHHHCGB3BGFHHHHA?E1CE?FFFGGDFGAEGHHH?ECEGHE2FHHHHHHG3?FGFGHHHHCFCGHHHGHFG\r\n",
      "@M00176:65:000000000-A41FR:1:1101:19160:2098 1:N:0:0\r\n",
      "TACGTAGGTGGCAAGCGTTGTCCGGATTTACTGGGCGTAAAGAGCGCGCAGGCGGTCGTTCAAGTCGCGTGTNNNANCCNNNNNNNNNNNNNNNNNNNNNNNNNNNNNNNNNNNNNNNNNNNNNNNNNNNNNNNNNNNNNNNNNNNNNNNN\r\n",
      "+\r\n",
      "BBABBFFADFAFGGFAEEGCEFHFGAEGHHHHGGHDGEGGHHHHHGGGGCGCDEEEEEFGHGHFFFDCFFGE###?#??########################################################################\r\n",
      "@M00176:65:000000000-A41FR:1:1101:13464:2100 1:N:0:0\r\n",
      "GGTTATTAAAGAGATTATTTGTCTCCAGCCACTTAAGTGAGGTGATTTATGTTTGGTGCTATTGCTGGCGGTATTGCTTCTGCTCTTGCTGGTGGCGCCATGTCTAAATTGTTTGGAGGCGGTCAAAAAGCCGCCTCCGGTGGCATTCAAG\r\n",
      "+\r\n",
      "ABBBAFFFF5DFFFFFFGGGGGHHHFHHFGHHHHFFFGHFDGGHHHHHGHHHHHHGHGHHGGHHHHHGGGGAAFHFHHHHHHHHHHHFEHFFGFGGGFEEFHHFHHHHHHHDHHHGHGGGCFGFGHHGHGHHFCGGDGDFCDDFFHHFHFF\r\n",
      "@M00176:65:000000000-A41FR:1:1101:13718:2122 1:N:0:0\r\n",
      "TACGGAGGGTCCGAGCGTTATCCGGAATTATTGGGTTTAAAGGGTCCGTAGGCGGGCGATTAAGTCAGTGGTGAAAGTCTGCAGCTCAACTGTAGAACTGCCTTTGATACTGGTCGTCTTGAGTTATAGTGAAGTTGCCGGAATATGTAGT\r\n",
      "+\r\n",
      "BBBBBAADAACACEEEEEGCGGHCGEEFH5GHHCHAFGHHHHHGHFGG1FFDFEGGGG?EHGHGHHHHHHHFFFBGBGHHHFFHGGGFGHHFGHGFFHHFHGHHHHHHHGHHHHGGCFHEG1GHFHHHHGHF<GHGFHHGG<?E<0000;C\r\n"
     ]
    }
   ],
   "source": [
    "!head -100 unzipped-emp-paired-end-sequences/forward.fastq"
   ]
  },
  {
   "cell_type": "markdown",
   "metadata": {},
   "source": [
    "Okay! So that's what a fastq file looks like. At first, it might seem like mumbo-jumbo, but looking at it more closely, we can see a few things:\n",
    "1. Every few lines starts with an @ sign. That indicates the beginning of a new record. Each record has a string of identifiers, that tie it to the sequencer and the specific run.\n",
    "2. Within each record, the parts that we are the most interested in are the sequences, which are, of course, the parts that are all A's, T's, C's, and G's. You might see a lot of N's too. That's not a new nucleotide- it's the indication of an ambiguous base. The sequences couldn't figure out what should go there, so it left an N.\n",
    "3. There's a + sign, and then a series of characters. These characters represent the Phred quality, or Q, scores. You can read more about Q scores here <http://www.drive5.com/usearch/manual/quality_score.html>. Basically, they give us the level of confidence the sequencer assigned to its \"base call\" - the likelihood that the nucleotide at that location is correct. It's a logorithmic scale, so a Q score of 20 means there's a 1 in 100 chance that the base call was wrong (99% accuracy), while a Q score of 30 means there's a 1 in 1000 chance that the base call was wrong (99.9% accuracy)"
   ]
  },
  {
   "cell_type": "markdown",
   "metadata": {},
   "source": [
    "You can probably see that these first few reads don't look that good. They aren't very long, and there are a lot of N's. That's okay. We have millions of reads."
   ]
  },
  {
   "cell_type": "markdown",
   "metadata": {},
   "source": [
    "## Demultiplexing\n",
    "Let's demultiplex our reads. First, we need to import our sequence files that we just downloaded into a form that QIIME works with (.qza file)\n",
    "\n",
    "(These files are basically zipped groups of files. If you want the raw data out of them, you can unzip them and access them there.)"
   ]
  },
  {
   "cell_type": "code",
   "execution_count": 12,
   "metadata": {
    "collapsed": false
   },
   "outputs": [],
   "source": [
    "!qiime tools import --type EMPPairedEndSequences --input-path emp-paired-end-sequences/ --output-path emp-paired-end-sequences.qza"
   ]
  },
  {
   "cell_type": "markdown",
   "metadata": {},
   "source": [
    "You can see there were a few variables that went into that command.\n",
    "We told it that the type of file we wanted to create - EMPPairedEndSequences. We told it the input path was that folder with just the three .gz files we downloaded. And we told it we wanted it to save the output in our current directory, calling it emp-paired-end-sequences.qza.\n",
    "\n",
    "If we wanted to know what commands were possible, we could enter:"
   ]
  },
  {
   "cell_type": "code",
   "execution_count": 50,
   "metadata": {
    "collapsed": false
   },
   "outputs": [
    {
     "name": "stdout",
     "output_type": "stream",
     "text": [
      "Usage: qiime tools import [OPTIONS]\r\n",
      "\r\n",
      "  Import data to create a new QIIME 2 Artifact. See https://docs.qiime2.org/\r\n",
      "  for usage examples and details on the file types and associated semantic\r\n",
      "  types that can be imported.\r\n",
      "\r\n",
      "Options:\r\n",
      "  --type TEXT           The semantic type of the new artifact.  [required]\r\n",
      "  --input-path PATH     Path to file or directory that should be imported.\r\n",
      "                        [required]\r\n",
      "  --output-path PATH    Path where output artifact should be written.\r\n",
      "                        [required]\r\n",
      "  --source-format TEXT  The format of the data to be imported. If not\r\n",
      "                        provided, data must be in the format expected by the\r\n",
      "                        semantic type provided via --type.\r\n",
      "  --help                Show this message and exit.\r\n"
     ]
    }
   ],
   "source": [
    "!qiime tools import --help"
   ]
  },
  {
   "cell_type": "markdown",
   "metadata": {
    "collapsed": true
   },
   "source": [
    "So, now that we've got the file that QIIME can read, we can ask it to demultiplex our sequences.  But what do we need to provide to tell it to do that?"
   ]
  },
  {
   "cell_type": "code",
   "execution_count": 6,
   "metadata": {
    "collapsed": false
   },
   "outputs": [
    {
     "name": "stdout",
     "output_type": "stream",
     "text": [
      "Usage: qiime demux emp-paired [OPTIONS]\r\n",
      "\r\n",
      "  Demultiplex paired-end sequence data (i.e., map barcode reads to sample\r\n",
      "  ids) for data generated with the Earth Microbiome Project (EMP) amplicon\r\n",
      "  sequencing protocol. Details about this protocol can be found at\r\n",
      "  http://www.earthmicrobiome.org/emp-standard-protocols/\r\n",
      "\r\n",
      "Options:\r\n",
      "  --i-seqs PATH                   Artifact: EMPPairedEndSequences  [required]\r\n",
      "                                  The paired-end sequences to be\r\n",
      "                                  demultiplexed.\r\n",
      "  --m-barcodes-file PATH          Metadata mapping file  [required]\r\n",
      "  --m-barcodes-category TEXT      Category from metadata mapping file\r\n",
      "                                  [required]\r\n",
      "  --p-rev-comp-barcodes / --p-no-rev-comp-barcodes\r\n",
      "                                  [default: False]\r\n",
      "                                  If provided, the barcode\r\n",
      "                                  sequence reads will be reverse complemented\r\n",
      "                                  prior to demultiplexing.\r\n",
      "  --p-rev-comp-mapping-barcodes / --p-no-rev-comp-mapping-barcodes\r\n",
      "                                  [default: False]\r\n",
      "                                  If provided, the barcode\r\n",
      "                                  sequences in the sample metadata will be\r\n",
      "                                  reverse complemented prior to\r\n",
      "                                  demultiplexing.\r\n",
      "  --o-per-sample-sequences PATH   Artifact:\r\n",
      "                                  SampleData[PairedEndSequencesWithQuality]\r\n",
      "                                  [required if not passing --output-dir]\r\n",
      "                                  The\r\n",
      "                                  resulting demultiplexed sequences.\r\n",
      "  --output-dir DIRECTORY          Output unspecified results to a directory\r\n",
      "  --cmd-config PATH               Use config file for command options\r\n",
      "  --verbose                       Display verbose output to stdout and/or\r\n",
      "                                  stderr during execution of this action.\r\n",
      "                                  [default: False]\r\n",
      "  --help                          Show this message and exit.\r\n"
     ]
    }
   ],
   "source": [
    "!qiime demux emp-paired --help"
   ]
  },
  {
   "cell_type": "markdown",
   "metadata": {},
   "source": [
    "Ok, it looks like it needs an input file (that's the .qza we just created) and a barcodes file path and the barcode category. We can also tell it whether we need to reverse-complement the barcodes, what the output files should be called, and some other options as well."
   ]
  },
  {
   "cell_type": "code",
   "execution_count": 13,
   "metadata": {
    "collapsed": false
   },
   "outputs": [
    {
     "name": "stdout",
     "output_type": "stream",
     "text": [
      "\u001b[32mSaved SampleData[PairedEndSequencesWithQuality] to: demux.qza\u001b[0m\r\n"
     ]
    }
   ],
   "source": [
    "!qiime demux emp-paired --i-seqs emp-paired-end-sequences.qza --m-barcodes-file sample-metadata.tsv --m-barcodes-category BarcodeSequence --o-per-sample-sequences demux --p-rev-comp-mapping-barcodes"
   ]
  },
  {
   "cell_type": "code",
   "execution_count": 14,
   "metadata": {
    "collapsed": false
   },
   "outputs": [
    {
     "name": "stdout",
     "output_type": "stream",
     "text": [
      "demux.qza\t\t      sample-metadata.tsv\r\n",
      "emp-paired-end-sequences      Untitled.ipynb\r\n",
      "emp-paired-end-sequences.qza  unzipped-emp-paired-end-sequences\r\n",
      "QC_Tutorial.ipynb\r\n"
     ]
    }
   ],
   "source": [
    "!ls"
   ]
  },
  {
   "cell_type": "markdown",
   "metadata": {},
   "source": [
    "As you can see, now we have a file called demux.qza. QIIME can put this data into an easy-to-visualize format for us."
   ]
  },
  {
   "cell_type": "code",
   "execution_count": 16,
   "metadata": {
    "collapsed": false
   },
   "outputs": [
    {
     "name": "stdout",
     "output_type": "stream",
     "text": [
      "\u001b[32mSaved Visualization to: demux.qzv\u001b[0m\r\n"
     ]
    }
   ],
   "source": [
    "!qiime demux summarize --i-data demux.qza --o-visualization demux.qzv"
   ]
  },
  {
   "cell_type": "code",
   "execution_count": 18,
   "metadata": {
    "collapsed": false
   },
   "outputs": [
    {
     "name": "stdout",
     "output_type": "stream",
     "text": [
      "Press the 'q' key, Control-C, or Control-D to quit. This view may no longer be accessible or work correctly after quitting.\n",
      "Press the 'q' key, Control-C, or Control-D to quit. This view may no longer be accessible or work correctly after quitting."
     ]
    }
   ],
   "source": [
    "!qiime tools view demux.qzv"
   ]
  },
  {
   "cell_type": "markdown",
   "metadata": {},
   "source": [
    "We can see lots of information about our data here, including how many sequences we got per sample and what the lengths and number of reads were. We can also grab the data in a raw format here (\"Download as .csv\") if we wanted.\n",
    "\n",
    "Press the square stop button to be able to run code again after visualizing."
   ]
  },
  {
   "cell_type": "markdown",
   "metadata": {},
   "source": [
    "## Quality scores"
   ]
  },
  {
   "cell_type": "markdown",
   "metadata": {},
   "source": [
    "After demultiplexing reads, we’ll look at the sequence quality based on five randomly selected samples, and then denoise the data. When you view the quality plots, note that there are  two plots per sample. The plot on the left presents the quality scores for the forward reads, and the plot on the right presents the quality scores for the reverse reads. We’ll use these plots to determine what trimming parameters we want to use for denoising.\n",
    "\n",
    "(This command might take a while.)"
   ]
  },
  {
   "cell_type": "code",
   "execution_count": 20,
   "metadata": {
    "collapsed": false
   },
   "outputs": [
    {
     "name": "stdout",
     "output_type": "stream",
     "text": [
      "^C\r\n",
      "\r\n",
      "Aborted!\r\n"
     ]
    }
   ],
   "source": [
    "!qiime dada2 plot-qualities --i-demultiplexed-seqs demux.qza   --o-visualization demux-qualities.qzv --p-n 5"
   ]
  },
  {
   "cell_type": "code",
   "execution_count": 22,
   "metadata": {
    "collapsed": false
   },
   "outputs": [
    {
     "name": "stdout",
     "output_type": "stream",
     "text": [
      "Press the 'q' key, Control-C, or Control-D to quit. This view may no longer be accessible or work correctly after quitting.\n",
      "Press the 'q' key, Control-C, or Control-D to quit. This view may no longer be accessible or work correctly after quitting."
     ]
    }
   ],
   "source": [
    "!qiime tools view demux-qualities.qzv"
   ]
  },
  {
   "cell_type": "markdown",
   "metadata": {},
   "source": [
    "Take a look at the results! What are the trends? Are the quality scores for the forward and reverse reads similar?\n",
    "\n",
    "Next week, we will take this information and generate our \"OTU table\" - the table of taxa (and their associated representative sequences) and their abundances in each of our samples."
   ]
  }
 ],
 "metadata": {
  "kernelspec": {
   "display_name": "Python 3",
   "language": "python",
   "name": "python3"
  },
  "language_info": {
   "codemirror_mode": {
    "name": "ipython",
    "version": 3
   },
   "file_extension": ".py",
   "mimetype": "text/x-python",
   "name": "python",
   "nbconvert_exporter": "python",
   "pygments_lexer": "ipython3",
   "version": "3.5.2"
  }
 },
 "nbformat": 4,
 "nbformat_minor": 2
}
