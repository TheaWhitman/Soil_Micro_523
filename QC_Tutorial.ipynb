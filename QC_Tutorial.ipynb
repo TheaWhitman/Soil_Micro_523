{
 "cells": [
  {
   "cell_type": "markdown",
   "metadata": {},
   "source": [
    "## Quality control tutorial, based on QIIME2 \"Atacama soil microbiome\" tutorial\n",
    "https://docs.qiime2.org/2017.12/tutorials/atacama-soils/"
   ]
  },
  {
   "cell_type": "markdown",
   "metadata": {},
   "source": [
    "Watching this video from Illumina <https://www.youtube.com/watch?v=fCd6B5HRaZ8> will give you an overview of how the MiSeq sequencing process runs."
   ]
  },
  {
   "cell_type": "markdown",
   "metadata": {},
   "source": [
    " What we get back from the sequencing centre will be three files: Forward reads, Reverse reads, and Index (\"barcode\") reads. As you saw in the video, Illumina MiSeq gives us millions of reads back. Since we don't need that degree of \"sequencing depth\" in our samples, we can pool hundreds of samples on a single run. To do this, we attach a different unique sequence (\"barcode\") to all the reads from each sample. Then, when they are sequenced, we also get the barcode sequence, allowing us to trace which sample each read came from. The process of unpooling the reads is usually called \"demultiplexing\". This is one of the first things we will do with our sequences.\n",
    " \n",
    "When we get our sequence data back, we will want to do a few things.\n",
    "1. Merge paired-end forward and reverse reads\n",
    "2. Screen sequences to include only high-quality reads\n",
    "3. Match our pool of sequences with their respective samples (demultiplexing)"
   ]
  },
  {
   "cell_type": "markdown",
   "metadata": {},
   "source": [
    "While the files we get back from the sequencing centre will be very large, they are relatively simple - basically just stylized text files with information about our sequences and the sequences themselves. They are usually end with \".fasta\" or \".fa\". If they include \"quality scores\", they end with \".fastq\" \".fq\". They are still basically just text files - you could technically open them with a text reader. However, they are usually very long, and you wouldn't really want to do that."
   ]
  },
  {
   "cell_type": "markdown",
   "metadata": {},
   "source": [
    "## Importing and examining sequencing files\n",
    "\n",
    "#### To run a cell in the Jupyter notebook, just type shift+enter while you have the cell selected.\n",
    "#### While it is running, an asterix will appear: In [\\*]. Once the command has finished, it will update with a number that represents the order in which the commands were run. \n",
    "\n",
    "(A prefix of ! indicates that the code should be run in the terminal shell (not python code, which is the default))"
   ]
  },
  {
   "cell_type": "markdown",
   "metadata": {},
   "source": [
    "Let's take a look at some .fastq files from the qiime2 Atacama Soil Microbiome tutorial.\n",
    "\n",
    "Make sure you are in the qiime2-atacama-tutorial directory for this work, or if you aren't, move to it."
   ]
  },
  {
   "cell_type": "code",
   "execution_count": null,
   "metadata": {
    "collapsed": false
   },
   "outputs": [],
   "source": [
    "!ls"
   ]
  },
  {
   "cell_type": "markdown",
   "metadata": {},
   "source": [
    "Now we'll download the files using wget.\n",
    "\"sample-metadata.tsv\" is what we are going to call the resulting file. You could name it something else if you wanted.\n",
    "The URL is, of course, where the file is located."
   ]
  },
  {
   "cell_type": "code",
   "execution_count": null,
   "metadata": {
    "collapsed": false,
    "scrolled": true
   },
   "outputs": [],
   "source": [
    "!wget -O \"sample-metadata.tsv\" \"https://data.qiime2.org/2017.12/tutorials/atacama-soils/sample_metadata.tsv\""
   ]
  },
  {
   "cell_type": "markdown",
   "metadata": {},
   "source": [
    "(If you want to hide the output from a given command, you can click or double-click the space below the In [#] for that command.)"
   ]
  },
  {
   "cell_type": "markdown",
   "metadata": {},
   "source": [
    "We can take a look at this file we just downloaded - we might not want to see the whole thing, but we can look at the top portion using the command head:"
   ]
  },
  {
   "cell_type": "code",
   "execution_count": null,
   "metadata": {
    "collapsed": false
   },
   "outputs": [],
   "source": [
    "!head sample-metadata.tsv"
   ]
  },
  {
   "cell_type": "markdown",
   "metadata": {},
   "source": [
    "As you can see, this has all the data associated with our samples for this tutorial, including the barcodes."
   ]
  },
  {
   "cell_type": "markdown",
   "metadata": {},
   "source": [
    "Let's make a new folder within this tutorial, where we will house our sequence data."
   ]
  },
  {
   "cell_type": "code",
   "execution_count": null,
   "metadata": {
    "collapsed": true
   },
   "outputs": [],
   "source": [
    "!mkdir emp-paired-end-sequences"
   ]
  },
  {
   "cell_type": "markdown",
   "metadata": {},
   "source": [
    "Then we are going to download the forward and reverse reads to that folder.\n",
    "Note that we are still in the qiime2-atacama-tutorial folder - we didn't move into the emp-paired-end-sequences folder. However, by specifying the file path, we can direct the computer to download the sequences to that new folder we just created."
   ]
  },
  {
   "cell_type": "code",
   "execution_count": null,
   "metadata": {
    "collapsed": false
   },
   "outputs": [],
   "source": [
    "!wget -O \"emp-paired-end-sequences/forward.fastq.gz\" \"https://data.qiime2.org/2017.12/tutorials/atacama-soils/1p/forward.fastq.gz\"\n",
    "!wget -O \"emp-paired-end-sequences/reverse.fastq.gz\" \"https://data.qiime2.org/2017.12/tutorials/atacama-soils/1p/reverse.fastq.gz\"\n",
    "!wget -O \"emp-paired-end-sequences/barcodes.fastq.gz\" \"https://data.qiime2.org/2017.12/tutorials/atacama-soils/1p/barcodes.fastq.gz\""
   ]
  },
  {
   "cell_type": "markdown",
   "metadata": {},
   "source": [
    "ALthough the programs we are going to use can work with these files in a zipped format, we want to take a look at them. So, let's unzip them and use commands to see what's in them. The -k flag indiates we want to \"keep\" the zipped file too.\n",
    "The -f flag is for \"force\", which means it will overwrite existing files if they exist.\n",
    "We are then moving them (mv) to a new directory (mkdir)."
   ]
  },
  {
   "cell_type": "code",
   "execution_count": null,
   "metadata": {
    "collapsed": false,
    "scrolled": true
   },
   "outputs": [],
   "source": [
    "!gunzip -k -f emp-paired-end-sequences/*.gz\n",
    "!mkdir unzipped-emp-paired-end-sequences/\n",
    "!mv emp-paired-end-sequences/*.fastq unzipped-emp-paired-end-sequences/"
   ]
  },
  {
   "cell_type": "markdown",
   "metadata": {},
   "source": [
    "Let's take a look at the first 100 lines of our forward reads .fastq file."
   ]
  },
  {
   "cell_type": "code",
   "execution_count": null,
   "metadata": {
    "collapsed": false
   },
   "outputs": [],
   "source": [
    "!head -100 unzipped-emp-paired-end-sequences/forward.fastq"
   ]
  },
  {
   "cell_type": "markdown",
   "metadata": {},
   "source": [
    "Okay! So that's what a fastq file looks like. At first, it might seem like mumbo-jumbo, but looking at it more closely, we can see a few things:\n",
    "1. Every few lines starts with an @ sign. That indicates the beginning of a new record. Each record has a string of identifiers, that tie it to the sequencer and the specific run.\n",
    "2. Within each record, the parts that we are the most interested in are the sequences, which are, of course, the parts that are all A's, T's, C's, and G's. You might see a lot of N's too. That's not a new nucleotide- it's the indication of an ambiguous base. The sequences couldn't figure out what should go there, so it left an N.\n",
    "3. There's a + sign, and then a series of characters. These characters represent the Phred quality, or Q, scores. You can read more about Q scores here <http://www.drive5.com/usearch/manual/quality_score.html>. Basically, they give us the level of confidence the sequencer assigned to its \"base call\" - the likelihood that the nucleotide at that location is correct. It's a logorithmic scale, so a Q score of 20 means there's a 1 in 100 chance that the base call was wrong (99% accuracy), while a Q score of 30 means there's a 1 in 1000 chance that the base call was wrong (99.9% accuracy)"
   ]
  },
  {
   "cell_type": "markdown",
   "metadata": {},
   "source": [
    "You can probably see that these first few reads don't look that good. They aren't very long, and there are a lot of N's. That's okay. We have millions of reads."
   ]
  },
  {
   "cell_type": "markdown",
   "metadata": {},
   "source": [
    "## Demultiplexing\n",
    "Let's demultiplex our reads. First, we need to import our sequence files that we just downloaded into a form that QIIME works with (.qza file)\n",
    "\n",
    "(These files are basically zipped groups of files. If you want the raw data out of them, you can unzip them and access them there.)"
   ]
  },
  {
   "cell_type": "code",
   "execution_count": null,
   "metadata": {
    "collapsed": false
   },
   "outputs": [],
   "source": [
    "!qiime tools import --type EMPPairedEndSequences --input-path emp-paired-end-sequences/ --output-path emp-paired-end-sequences.qza"
   ]
  },
  {
   "cell_type": "markdown",
   "metadata": {},
   "source": [
    "You can see there were a few variables that went into that command.\n",
    "We told it that the type of file we wanted to create - EMPPairedEndSequences. We told it the input path was that folder with just the three .gz files we downloaded. And we told it we wanted it to save the output in our current directory, calling it emp-paired-end-sequences.qza.\n",
    "\n",
    "If we wanted to know what commands were possible, we could enter:"
   ]
  },
  {
   "cell_type": "code",
   "execution_count": null,
   "metadata": {
    "collapsed": false
   },
   "outputs": [],
   "source": [
    "!qiime tools import --help"
   ]
  },
  {
   "cell_type": "markdown",
   "metadata": {
    "collapsed": true
   },
   "source": [
    "So, now that we've got the file that QIIME can read, we can ask it to demultiplex our sequences.  But what do we need to provide to tell it to do that?"
   ]
  },
  {
   "cell_type": "code",
   "execution_count": null,
   "metadata": {
    "collapsed": false
   },
   "outputs": [],
   "source": [
    "!qiime demux emp-paired --help"
   ]
  },
  {
   "cell_type": "markdown",
   "metadata": {},
   "source": [
    "Ok, it looks like it needs an input file (that's the .qza we just created) and a barcodes file path and the barcode category. We can also tell it whether we need to reverse-complement the barcodes, what the output files should be called, and some other options as well."
   ]
  },
  {
   "cell_type": "code",
   "execution_count": null,
   "metadata": {
    "collapsed": false
   },
   "outputs": [],
   "source": [
    "!qiime demux emp-paired --i-seqs emp-paired-end-sequences.qza --m-barcodes-file sample_metadata.tsv --m-barcodes-category BarcodeSequence --o-per-sample-sequences demux --p-rev-comp-mapping-barcodes"
   ]
  },
  {
   "cell_type": "code",
   "execution_count": null,
   "metadata": {
    "collapsed": false
   },
   "outputs": [],
   "source": [
    "!ls"
   ]
  },
  {
   "cell_type": "markdown",
   "metadata": {},
   "source": [
    "As you can see, now we have a file called demux.qza. QIIME can put this data into an easy-to-visualize format for us."
   ]
  },
  {
   "cell_type": "code",
   "execution_count": null,
   "metadata": {
    "collapsed": false
   },
   "outputs": [],
   "source": [
    "!qiime demux summarize --i-data demux.qza --o-visualization demux.qzv"
   ]
  },
  {
   "cell_type": "code",
   "execution_count": null,
   "metadata": {
    "collapsed": false
   },
   "outputs": [],
   "source": [
    "!qiime tools view demux.qzv"
   ]
  },
  {
   "cell_type": "markdown",
   "metadata": {},
   "source": [
    "We can see lots of information about our data here, including how many sequences we got per sample and what the lengths and number of reads were. We can also grab the data in a raw format here (\"Download as .csv\") if we wanted.\n",
    "\n",
    "Press the square stop button to be able to run code again after visualizing."
   ]
  },
  {
   "cell_type": "markdown",
   "metadata": {},
   "source": [
    "## Quality scores"
   ]
  },
  {
   "cell_type": "markdown",
   "metadata": {},
   "source": [
    "After demultiplexing reads, we’ll look at the sequence quality based on five randomly selected samples, and then denoise the data. When you view the quality plots, note that there are  two plots per sample. The plot on the left presents the quality scores for the forward reads, and the plot on the right presents the quality scores for the reverse reads. We’ll use these plots to determine what trimming parameters we want to use for denoising.\n",
    "\n",
    "(This command might take a few minutes. If you know your computer's a bit slower, you might change the value for --p-n to 1 or 2.)"
   ]
  },
  {
   "cell_type": "code",
   "execution_count": null,
   "metadata": {
    "collapsed": false
   },
   "outputs": [],
   "source": [
    "!qiime dada2 plot-qualities --i-demultiplexed-seqs demux.qza   --o-visualization demux-qualities.qzv --p-n 3"
   ]
  },
  {
   "cell_type": "code",
   "execution_count": null,
   "metadata": {
    "collapsed": false
   },
   "outputs": [],
   "source": [
    "!qiime tools view demux-qualities.qzv"
   ]
  },
  {
   "cell_type": "markdown",
   "metadata": {},
   "source": [
    "Take a look at the results! What are the trends? Are the quality scores for the forward and reverse reads similar?\n",
    "\n",
    "Next week, we will take this information and generate our \"OTU table\" - the table of taxa (and their associated representative sequences) and their abundances in each of our samples."
   ]
  }
 ],
 "metadata": {
  "kernelspec": {
   "display_name": "Python 3",
   "language": "python",
   "name": "python3"
  },
  "language_info": {
   "codemirror_mode": {
    "name": "ipython",
    "version": 3
   },
   "file_extension": ".py",
   "mimetype": "text/x-python",
   "name": "python",
   "nbconvert_exporter": "python",
   "pygments_lexer": "ipython3",
   "version": "3.5.2"
  }
 },
 "nbformat": 4,
 "nbformat_minor": 2
}
