{
 "cells": [
  {
   "cell_type": "markdown",
   "metadata": {},
   "source": [
    "## Generating an OTU table and imposing QC filters, based on QIIME2 \"Atacama soil microbiome\" tutorial and the Divisive Amplicon Denoising Algorithm (DADA2)\n",
    "https://docs.qiime2.org/2017.2/tutorials/atacama-soils/\n",
    "\n",
    "http://benjjneb.github.io/dada2/"
   ]
  },
  {
   "cell_type": "markdown",
   "metadata": {},
   "source": [
    "Last class, we demultiplexed our reads (grouped them by sample) and looked at the quality scores for the forward and reverse reads of our sequences. You should be able to pull the quality score graphs up here:"
   ]
  },
  {
   "cell_type": "code",
   "execution_count": null,
   "metadata": {
    "collapsed": true
   },
   "outputs": [],
   "source": [
    "!qiime tools view demux-qualities.qzv"
   ]
  },
  {
   "cell_type": "markdown",
   "metadata": {},
   "source": [
    "(Remember that you can stop the notebook running the view command by pressing the square stop button at the top of the page. This has the same effect as entering CTRL+C in the terminal.)"
   ]
  },
  {
   "cell_type": "markdown",
   "metadata": {},
   "source": [
    "The region that we chose to sequence is ~bp long, and so has lots of overlap between the forward and reverse reads. The first thing you might have noticed is that the reverse read tends to be of lower quality. That is an artifact of the Illumina sequencing platform. The other thing you'll notice is that the quality tends to tail off towards the end. That's also standard. Finally, you might see that the beginning of the reads looks a little iffy too. Fortunately, by trimming the reads and combining the forward and reverse reads, we can create single, full-length sequences that are high-quality.\n",
    "\n",
    "The next command packages a lot of steps into one, so it's important to know what it's doing."
   ]
  },
  {
   "cell_type": "code",
   "execution_count": 1,
   "metadata": {
    "collapsed": false
   },
   "outputs": [
    {
     "name": "stdout",
     "output_type": "stream",
     "text": [
      "Usage: qiime dada2 [OPTIONS] COMMAND [ARGS]...\r\n",
      "\r\n",
      "  Plugin website: http://benjjneb.github.io/dada2/\r\n",
      "\r\n",
      "  Getting user support: To get help with DADA2, post to the DADA2 issue\r\n",
      "  tracker: https://github.com/benjjneb/dada2/issues\r\n",
      "\r\n",
      "  Citing this plugin: DADA2: High-resolution sample inference from Illumina\r\n",
      "  amplicon data. Benjamin J Callahan, Paul J McMurdie, Michael J Rosen,\r\n",
      "  Andrew W Han, Amy Jo A Johnson, Susan P Holmes. Nature Methods 13, 581–583\r\n",
      "  (2016) doi:10.1038/nmeth.3869.\r\n",
      "\r\n",
      "Options:\r\n",
      "  --help  Show this message and exit.\r\n",
      "\r\n",
      "Commands:\r\n",
      "  denoise-paired  Denoise and dereplicate paired-end sequences\r\n",
      "  denoise-single  Denoise and dereplicate single-end sequences\r\n",
      "  plot-qualities  Plot positional qualitites\r\n"
     ]
    }
   ],
   "source": [
    "!qiime dada2 --help"
   ]
  },
  {
   "cell_type": "markdown",
   "metadata": {},
   "source": [
    "This tells us the various commands that DADA2 can run, and where to find out more. In our case, we have paired-end sequences, so we want to know what that command does:"
   ]
  },
  {
   "cell_type": "code",
   "execution_count": 3,
   "metadata": {
    "collapsed": false
   },
   "outputs": [
    {
     "name": "stdout",
     "output_type": "stream",
     "text": [
      "Usage: qiime dada2 denoise-paired [OPTIONS]\r\n",
      "\r\n",
      "  This method denoises paired-end sequences, dereplicates them, and filters\r\n",
      "  chimeras.\r\n",
      "\r\n",
      "Options:\r\n",
      "  --i-demultiplexed-seqs PATH     Artifact:\r\n",
      "                                  SampleData[PairedEndSequencesWithQuality]\r\n",
      "                                  [required]\r\n",
      "                                  The paired-end demultiplexed\r\n",
      "                                  sequences to be denoised.\r\n",
      "  --p-trunc-len-f INTEGER         [required]\r\n",
      "                                  Position at which forward read\r\n",
      "                                  sequences should be truncated due to\r\n",
      "                                  decrease in quality. This truncates the 3'\r\n",
      "                                  end of the of the input sequences, which\r\n",
      "                                  will be the bases that were sequenced in the\r\n",
      "                                  last cycles. Reads that are shorter than\r\n",
      "                                  this value will be discarded.\r\n",
      "  --p-trunc-len-r INTEGER         [required]\r\n",
      "                                  Position at which reverse read\r\n",
      "                                  sequences should be truncated due to\r\n",
      "                                  decrease in quality. This truncates the 3'\r\n",
      "                                  end of the of the input sequences, which\r\n",
      "                                  will be the bases that were sequenced in the\r\n",
      "                                  last cycles. Reads that are shorter than\r\n",
      "                                  this value will be discarded.\r\n",
      "  --p-trim-left-f INTEGER         [default: 0]\r\n",
      "                                  Position at which forward read\r\n",
      "                                  sequences should be trimmed due to low\r\n",
      "                                  quality. This trims the 5' end of the input\r\n",
      "                                  sequences, which will be the bases that were\r\n",
      "                                  sequenced in the first cycles.\r\n",
      "  --p-trim-left-r INTEGER         [default: 0]\r\n",
      "                                  Position at which reverse read\r\n",
      "                                  sequences should be trimmed due to low\r\n",
      "                                  quality. This trims the 5' end of the input\r\n",
      "                                  sequences, which will be the bases that were\r\n",
      "                                  sequenced in the first cycles.\r\n",
      "  --p-max-ee FLOAT                [default: 2.0]\r\n",
      "                                  Reads with number of expected\r\n",
      "                                  errors higher than this value will be\r\n",
      "                                  discarded.\r\n",
      "  --p-trunc-q INTEGER             [default: 2]\r\n",
      "                                  Reads are truncated at the\r\n",
      "                                  first instance of a quality score less than\r\n",
      "                                  or equal to this value. If the resulting\r\n",
      "                                  read is then shorter than `trunc_len_f` or\r\n",
      "                                  `trunc_len_r` (depending on the direction of\r\n",
      "                                  the read) it is discarded.\r\n",
      "  --p-n-threads INTEGER           [default: 1]\r\n",
      "                                  The number of threads to use\r\n",
      "                                  for multithreaded processing. If 0 is\r\n",
      "                                  provided, all available cores will be used.\r\n",
      "  --p-n-reads-learn INTEGER       [default: 1000000]\r\n",
      "                                  The number of reads to\r\n",
      "                                  use when training the error model. Smaller\r\n",
      "                                  numbers will result in a shorter run time\r\n",
      "                                  but a less reliable error model.\r\n",
      "  --p-hashed-feature-ids / --p-no-hashed-feature-ids\r\n",
      "                                  [default: True]\r\n",
      "                                  If true, the feature ids in\r\n",
      "                                  the resulting table will be presented as\r\n",
      "                                  hashes of the sequences defining each\r\n",
      "                                  feature. The hash will always be the same\r\n",
      "                                  for the same sequence so this allows feature\r\n",
      "                                  tables to be merged across runs of this\r\n",
      "                                  method. You should only merge tables if the\r\n",
      "                                  exact same parameters are used for each run.\r\n",
      "  --o-table PATH                  Artifact: FeatureTable[Frequency]  [required\r\n",
      "                                  if not passing --output-dir]\r\n",
      "                                  The resulting\r\n",
      "                                  feature table.\r\n",
      "  --o-representative-sequences PATH\r\n",
      "                                  Artifact: FeatureData[Sequence]  [required\r\n",
      "                                  if not passing --output-dir]\r\n",
      "                                  The resulting\r\n",
      "                                  feature sequences. Each feature in the\r\n",
      "                                  feature table will be represented by exactly\r\n",
      "                                  one sequence, and these sequences will be\r\n",
      "                                  the joined paired-end sequences.\r\n",
      "  --output-dir DIRECTORY          Output unspecified results to a directory\r\n",
      "  --cmd-config PATH               Use config file for command options\r\n",
      "  --verbose                       Display verbose output to stdout and/or\r\n",
      "                                  stderr during execution of this action.\r\n",
      "                                  [default: False]\r\n",
      "  --help                          Show this message and exit.\r\n"
     ]
    }
   ],
   "source": [
    "!qiime dada2 denoise-paired --help"
   ]
  },
  {
   "cell_type": "markdown",
   "metadata": {},
   "source": [
    "Now you can see that this command does a lot at once. It requires our demultiplexed input file that we created last tutorial \"--i-demultiplexed-seqs demux.qza\", and it also requires a length at which we will truncate our sequences. Because this data was generated using 150bp paired ends sequencing, anything longer than 150 is suspect. So, we'll use 150 as the cutoff for our forward and reverse reads  \"--p-trunc-len-f 150 --p-trunc-len-r 150\".\n",
    "\n",
    "From looking at the quality scores earlier, we saw that the sequence quality dips off at the end. Fortunately matching up the forward and reverse reads will help take care of that, to some extent. However, to deal with the lower sequence quality at the very beginning of the reads, we might just proactively cut out the first few base pairs of those sequences \"--p-trim-left-f 10  --p-trim-left-r 10\". Of course, you could choose any number here.\n",
    "\n",
    "We can also include a parameter to set the maximum expected errors <http://www.drive5.com/usearch/manual/exp_errs.html> that we accept in a given read. We will use 1.0 here - the default is 2.0, so if you don't specify a value, it will use 2.0.\n",
    "\n",
    "dada2 also counts the number of each type of read, which requires that it compare all reads to each other. This is different from previous \"OTU-clustering\" algorithims, which we will discuss in class. Briefly, it considers the possible errors in each sequence, and compares all sequences to each other, which allows it to predict the likelihood that a given sequence is \"real\" or not. This means that it removes all \"singletons\" - sequences that are only present once across all samples, which are very hard to distingish from sequencing errors. It also removed \"chimeras\" - erroneous combinations of two different true sequences.\n",
    "\n",
    "After performing most of the previous QC functions, it starts with all the sequences in one group, and compares all the other sequences to the most abundant sequence in the whole dataset. If any sequences fall below a certain threshold of similarity to that central sequence, then a second sequence is chosen as a second centre, and all sequences are compared to these two centres. This is repeated iteratively, adding more and more centres, until no sequences fall outside of the threshold. In the current version of QIIME2, this is set at 1e-40.\n",
    "\n",
    "Finally, we want to tell QIIME where to put and what to call the output. It will give us an OTU table and the sequences associated with each OTU \"--o-table table --o-representative-sequences rep-seqs\".\n",
    "\n",
    "Let's give it a spin! This will also take a few minutes."
   ]
  },
  {
   "cell_type": "code",
   "execution_count": 14,
   "metadata": {
    "collapsed": false
   },
   "outputs": [
    {
     "name": "stdout",
     "output_type": "stream",
     "text": [
      "\u001b[32mSaved FeatureTable[Frequency] to: table.qza\u001b[0m\r\n",
      "\u001b[32mSaved FeatureData[Sequence] to: rep-seqs.qza\u001b[0m\r\n"
     ]
    }
   ],
   "source": [
    "!qiime dada2 denoise-paired --i-demultiplexed-seqs demux.qza --p-trim-left-f 10 --p-trim-left-r 10 --p-trunc-len-f 150 --p-trunc-len-r 150 --p-max-ee 2 --o-table table --o-representative-sequences rep-seqs "
   ]
  },
  {
   "cell_type": "markdown",
   "metadata": {},
   "source": [
    "And for a quick summary of the results of this function, we can use the following commands:"
   ]
  },
  {
   "cell_type": "code",
   "execution_count": 15,
   "metadata": {
    "collapsed": false
   },
   "outputs": [
    {
     "name": "stdout",
     "output_type": "stream",
     "text": [
      "\u001b[32mSaved Visualization to: table.qzv\u001b[0m\n",
      "\u001b[32mSaved Visualization to: rep-seqs.qzv\u001b[0m\n"
     ]
    }
   ],
   "source": [
    "!qiime feature-table summarize --i-table table.qza --o-visualization table.qzv --m-sample-metadata-file sample-metadata.tsv\n",
    "!qiime feature-table tabulate-seqs --i-data rep-seqs.qza --o-visualization rep-seqs.qzv"
   ]
  },
  {
   "cell_type": "markdown",
   "metadata": {},
   "source": [
    "Let's take a look at the table:"
   ]
  },
  {
   "cell_type": "code",
   "execution_count": 16,
   "metadata": {
    "collapsed": false
   },
   "outputs": [
    {
     "name": "stdout",
     "output_type": "stream",
     "text": [
      "Press the 'q' key, Control-C, or Control-D to quit. This view may no longer be accessible or work correctly after quitting.\n",
      "Press the 'q' key, Control-C, or Control-D to quit. This view may no longer be accessible or work correctly after quitting."
     ]
    }
   ],
   "source": [
    "!qiime tools view table.qzv"
   ]
  },
  {
   "cell_type": "markdown",
   "metadata": {},
   "source": [
    "And we can visualize the sequences too:"
   ]
  },
  {
   "cell_type": "code",
   "execution_count": 18,
   "metadata": {
    "collapsed": false
   },
   "outputs": [
    {
     "name": "stdout",
     "output_type": "stream",
     "text": [
      "Press the 'q' key, Control-C, or Control-D to quit. This view may no longer be accessible or work correctly after quitting.\n",
      "Press the 'q' key, Control-C, or Control-D to quit. This view may no longer be accessible or work correctly after quitting."
     ]
    }
   ],
   "source": [
    "!qiime tools view rep-seqs.qzv"
   ]
  },
  {
   "cell_type": "code",
   "execution_count": null,
   "metadata": {
    "collapsed": true
   },
   "outputs": [],
   "source": []
  }
 ],
 "metadata": {
  "kernelspec": {
   "display_name": "Python 3",
   "language": "python",
   "name": "python3"
  },
  "language_info": {
   "codemirror_mode": {
    "name": "ipython",
    "version": 3
   },
   "file_extension": ".py",
   "mimetype": "text/x-python",
   "name": "python",
   "nbconvert_exporter": "python",
   "pygments_lexer": "ipython3",
   "version": "3.5.2"
  }
 },
 "nbformat": 4,
 "nbformat_minor": 2
}
